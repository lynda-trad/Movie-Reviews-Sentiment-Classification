{
 "cells": [
  {
   "cell_type": "markdown",
   "id": "8964a1ec-a31a-4182-b206-8cac632aa452",
   "metadata": {},
   "source": [
    "# Movie Reviews Classification"
   ]
  },
  {
   "cell_type": "markdown",
   "id": "3a9885f2-cad8-4d94-9635-dc2acc0a9f1c",
   "metadata": {},
   "source": [
    "# Library"
   ]
  },
  {
   "cell_type": "code",
   "execution_count": 1,
   "id": "4171b8e5-21a6-4af6-b1b2-c313d0a8d6b9",
   "metadata": {},
   "outputs": [],
   "source": [
    "import pandas as pd\n",
    "import nltk\n",
    "nltk.download('stopwords')\n",
    "\n",
    "# Normalize text\n",
    "import re\n",
    "from bs4 import BeautifulSoup\n",
    "from nltk.tokenize.toktok import ToktokTokenizer\n",
    "from nltk.stem import WordNetLemmatizer\n",
    "\n",
    "from IPython.display import clear_output\n",
    "clear_output(wait=False)"
   ]
  },
  {
   "cell_type": "markdown",
   "id": "8305f1c0-1711-4e44-936c-592fdb8c18ed",
   "metadata": {
    "jp-MarkdownHeadingCollapsed": true
   },
   "source": [
    "# Importing and analysing data"
   ]
  },
  {
   "cell_type": "code",
   "execution_count": 2,
   "id": "b4f2e5d2-a0dd-4f9c-832a-864614a358c3",
   "metadata": {},
   "outputs": [
    {
     "name": "stdout",
     "output_type": "stream",
     "text": [
      "(50000, 2)\n"
     ]
    },
    {
     "data": {
      "text/html": [
       "<div>\n",
       "<style scoped>\n",
       "    .dataframe tbody tr th:only-of-type {\n",
       "        vertical-align: middle;\n",
       "    }\n",
       "\n",
       "    .dataframe tbody tr th {\n",
       "        vertical-align: top;\n",
       "    }\n",
       "\n",
       "    .dataframe thead th {\n",
       "        text-align: right;\n",
       "    }\n",
       "</style>\n",
       "<table border=\"1\" class=\"dataframe\">\n",
       "  <thead>\n",
       "    <tr style=\"text-align: right;\">\n",
       "      <th></th>\n",
       "      <th>review</th>\n",
       "      <th>sentiment</th>\n",
       "    </tr>\n",
       "  </thead>\n",
       "  <tbody>\n",
       "    <tr>\n",
       "      <th>0</th>\n",
       "      <td>one of the other reviewers has mentioned that ...</td>\n",
       "      <td>positive</td>\n",
       "    </tr>\n",
       "    <tr>\n",
       "      <th>1</th>\n",
       "      <td>a wonderful little production. &lt;br /&gt;&lt;br /&gt;the...</td>\n",
       "      <td>positive</td>\n",
       "    </tr>\n",
       "    <tr>\n",
       "      <th>2</th>\n",
       "      <td>i thought this was a wonderful way to spend ti...</td>\n",
       "      <td>positive</td>\n",
       "    </tr>\n",
       "    <tr>\n",
       "      <th>3</th>\n",
       "      <td>basically there's a family where a little boy ...</td>\n",
       "      <td>negative</td>\n",
       "    </tr>\n",
       "    <tr>\n",
       "      <th>4</th>\n",
       "      <td>petter mattei's \"love in the time of money\" is...</td>\n",
       "      <td>positive</td>\n",
       "    </tr>\n",
       "  </tbody>\n",
       "</table>\n",
       "</div>"
      ],
      "text/plain": [
       "                                              review sentiment\n",
       "0  one of the other reviewers has mentioned that ...  positive\n",
       "1  a wonderful little production. <br /><br />the...  positive\n",
       "2  i thought this was a wonderful way to spend ti...  positive\n",
       "3  basically there's a family where a little boy ...  negative\n",
       "4  petter mattei's \"love in the time of money\" is...  positive"
      ]
     },
     "execution_count": 2,
     "metadata": {},
     "output_type": "execute_result"
    }
   ],
   "source": [
    "data = pd.read_csv(\"./data/IMDB_Dataset.csv\", converters={\"review\": lambda x: x.lower()})\n",
    "print(data.shape)\n",
    "data.head()"
   ]
  },
  {
   "cell_type": "markdown",
   "id": "f807acc1-05fa-4584-a950-f7c0e345846a",
   "metadata": {},
   "source": [
    "The data set is balanced, this is very important to not get any bias."
   ]
  },
  {
   "cell_type": "code",
   "execution_count": 3,
   "id": "f699fc6c-05ce-464d-a60b-f79a5a6c8e1a",
   "metadata": {
    "scrolled": true
   },
   "outputs": [
    {
     "data": {
      "text/plain": [
       "sentiment\n",
       "positive    25000\n",
       "negative    25000\n",
       "Name: count, dtype: int64"
      ]
     },
     "execution_count": 3,
     "metadata": {},
     "output_type": "execute_result"
    }
   ],
   "source": [
    "data['sentiment'].value_counts()"
   ]
  },
  {
   "cell_type": "markdown",
   "id": "8ec16d79-37a7-400d-8e39-98938aca94f8",
   "metadata": {
    "jp-MarkdownHeadingCollapsed": true
   },
   "source": [
    "# Splitting data into training and testing data sets\n",
    "The training set will consist of 2 thirds of the original data set with an even number of positive and negative reviews.\n",
    "\n",
    "The testing set will consist of a third of the original data set, we won't make it balanced, we'll take one random third of the last rows."
   ]
  },
  {
   "cell_type": "code",
   "execution_count": 4,
   "id": "55b15af8-bc9f-4ff7-a737-889a4234e547",
   "metadata": {},
   "outputs": [],
   "source": [
    "positive_set = data.loc[data['sentiment'] == 'positive']\n",
    "training_set = positive_set.iloc[:17500]"
   ]
  },
  {
   "cell_type": "code",
   "execution_count": 5,
   "id": "21badd36-2fa8-43f5-9ad6-7b7ee7b15f1c",
   "metadata": {},
   "outputs": [],
   "source": [
    "negative_set = data.loc[data['sentiment'] == 'negative']\n",
    "training_set = pd.concat([training_set, negative_set.iloc[:17500]])"
   ]
  },
  {
   "cell_type": "code",
   "execution_count": 6,
   "id": "261f9c37-0bba-4270-9a53-cd8cd5918275",
   "metadata": {},
   "outputs": [],
   "source": [
    "del positive_set, negative_set"
   ]
  },
  {
   "cell_type": "code",
   "execution_count": 7,
   "id": "76c3899d-73bd-486c-b3f7-dd30176a374b",
   "metadata": {},
   "outputs": [
    {
     "data": {
      "text/plain": [
       "sentiment\n",
       "positive    7510\n",
       "negative    7490\n",
       "Name: count, dtype: int64"
      ]
     },
     "execution_count": 7,
     "metadata": {},
     "output_type": "execute_result"
    }
   ],
   "source": [
    "testing_set = data.iloc[35000:]\n",
    "testing_set['sentiment'].value_counts()"
   ]
  },
  {
   "cell_type": "code",
   "execution_count": 8,
   "id": "e26d5543-0931-403b-936b-82c849327790",
   "metadata": {},
   "outputs": [],
   "source": [
    "# Shuffling the data sets to remove bias\n",
    "training_set = training_set.sample(frac=1).reset_index(drop=True)\n",
    "testing_set = testing_set.sample(frac=1).reset_index(drop=True)"
   ]
  },
  {
   "cell_type": "code",
   "execution_count": 9,
   "id": "7540a23d-1a96-4569-8845-731406ccb5c4",
   "metadata": {},
   "outputs": [
    {
     "name": "stdout",
     "output_type": "stream",
     "text": [
      "(35000, 2)\n"
     ]
    },
    {
     "data": {
      "text/html": [
       "<div>\n",
       "<style scoped>\n",
       "    .dataframe tbody tr th:only-of-type {\n",
       "        vertical-align: middle;\n",
       "    }\n",
       "\n",
       "    .dataframe tbody tr th {\n",
       "        vertical-align: top;\n",
       "    }\n",
       "\n",
       "    .dataframe thead th {\n",
       "        text-align: right;\n",
       "    }\n",
       "</style>\n",
       "<table border=\"1\" class=\"dataframe\">\n",
       "  <thead>\n",
       "    <tr style=\"text-align: right;\">\n",
       "      <th></th>\n",
       "      <th>review</th>\n",
       "      <th>sentiment</th>\n",
       "    </tr>\n",
       "  </thead>\n",
       "  <tbody>\n",
       "    <tr>\n",
       "      <th>0</th>\n",
       "      <td>one of the best! as being a fan of the civil w...</td>\n",
       "      <td>positive</td>\n",
       "    </tr>\n",
       "    <tr>\n",
       "      <th>1</th>\n",
       "      <td>having decided some time ago to collect the fi...</td>\n",
       "      <td>negative</td>\n",
       "    </tr>\n",
       "    <tr>\n",
       "      <th>2</th>\n",
       "      <td>true love, i truly enjoyed and loved this movi...</td>\n",
       "      <td>positive</td>\n",
       "    </tr>\n",
       "    <tr>\n",
       "      <th>3</th>\n",
       "      <td>the story is about ankush (abhay deol) - who i...</td>\n",
       "      <td>positive</td>\n",
       "    </tr>\n",
       "    <tr>\n",
       "      <th>4</th>\n",
       "      <td>i have not seen it since 1998 and yet i still ...</td>\n",
       "      <td>positive</td>\n",
       "    </tr>\n",
       "  </tbody>\n",
       "</table>\n",
       "</div>"
      ],
      "text/plain": [
       "                                              review sentiment\n",
       "0  one of the best! as being a fan of the civil w...  positive\n",
       "1  having decided some time ago to collect the fi...  negative\n",
       "2  true love, i truly enjoyed and loved this movi...  positive\n",
       "3  the story is about ankush (abhay deol) - who i...  positive\n",
       "4  i have not seen it since 1998 and yet i still ...  positive"
      ]
     },
     "execution_count": 9,
     "metadata": {},
     "output_type": "execute_result"
    }
   ],
   "source": [
    "print(training_set.shape)\n",
    "training_set.head()"
   ]
  },
  {
   "cell_type": "code",
   "execution_count": 10,
   "id": "623cd9b3-4252-4755-9699-32af66751e4c",
   "metadata": {},
   "outputs": [
    {
     "name": "stdout",
     "output_type": "stream",
     "text": [
      "(15000, 2)\n"
     ]
    },
    {
     "data": {
      "text/html": [
       "<div>\n",
       "<style scoped>\n",
       "    .dataframe tbody tr th:only-of-type {\n",
       "        vertical-align: middle;\n",
       "    }\n",
       "\n",
       "    .dataframe tbody tr th {\n",
       "        vertical-align: top;\n",
       "    }\n",
       "\n",
       "    .dataframe thead th {\n",
       "        text-align: right;\n",
       "    }\n",
       "</style>\n",
       "<table border=\"1\" class=\"dataframe\">\n",
       "  <thead>\n",
       "    <tr style=\"text-align: right;\">\n",
       "      <th></th>\n",
       "      <th>review</th>\n",
       "      <th>sentiment</th>\n",
       "    </tr>\n",
       "  </thead>\n",
       "  <tbody>\n",
       "    <tr>\n",
       "      <th>0</th>\n",
       "      <td>in its depiction of a miserable milanese under...</td>\n",
       "      <td>negative</td>\n",
       "    </tr>\n",
       "    <tr>\n",
       "      <th>1</th>\n",
       "      <td>arnold once again in the 80's demonstrated tha...</td>\n",
       "      <td>positive</td>\n",
       "    </tr>\n",
       "    <tr>\n",
       "      <th>2</th>\n",
       "      <td>i never fail to be amazed and horrified by the...</td>\n",
       "      <td>positive</td>\n",
       "    </tr>\n",
       "    <tr>\n",
       "      <th>3</th>\n",
       "      <td>this movie was beautiful and touching. it touc...</td>\n",
       "      <td>positive</td>\n",
       "    </tr>\n",
       "    <tr>\n",
       "      <th>4</th>\n",
       "      <td>bette davis brings her full trunk of tics to t...</td>\n",
       "      <td>negative</td>\n",
       "    </tr>\n",
       "  </tbody>\n",
       "</table>\n",
       "</div>"
      ],
      "text/plain": [
       "                                              review sentiment\n",
       "0  in its depiction of a miserable milanese under...  negative\n",
       "1  arnold once again in the 80's demonstrated tha...  positive\n",
       "2  i never fail to be amazed and horrified by the...  positive\n",
       "3  this movie was beautiful and touching. it touc...  positive\n",
       "4  bette davis brings her full trunk of tics to t...  negative"
      ]
     },
     "execution_count": 10,
     "metadata": {},
     "output_type": "execute_result"
    }
   ],
   "source": [
    "print(testing_set.shape)\n",
    "testing_set.head()"
   ]
  },
  {
   "cell_type": "markdown",
   "id": "398b2cae-0220-4c27-99a0-6b7debc49e3a",
   "metadata": {},
   "source": [
    "# Normalizing data"
   ]
  },
  {
   "cell_type": "markdown",
   "id": "a1336993-9110-4fb8-889d-f492a0827b45",
   "metadata": {},
   "source": [
    "To classify text, we have to normalize it so a computer can understand it.\n",
    "\n",
    "The steps will be :\n",
    "\n",
    "- Putting all the text in lower case (With the converters parameter of read_csv, we already did this step.)\n",
    "- Removing punctuation and html specific keyword (such as < br/ >) : we'll use re and BeautifulSoup.\n",
    "- Transforming the text into tokens\n",
    "- Removing any stopword : it consists of removing words with poor semantic interest, nltk has a built in list to which I'll add the words \"movie\" and \"review\".\n",
    "- Using a lemmatizer on the text : it consists of using the same word for derivatives of said word, removing conjugation from verbs, plural from words etc.\n",
    "\n"
   ]
  },
  {
   "cell_type": "code",
   "execution_count": 11,
   "id": "329d2a57-35fe-4cf2-80e4-51a200810a88",
   "metadata": {},
   "outputs": [],
   "source": [
    "# We'll use a simple, general tokeniser\n",
    "toktoktokeniser = ToktokTokenizer()"
   ]
  },
  {
   "cell_type": "code",
   "execution_count": 12,
   "id": "2a761521-315a-4965-bdd3-2c376400335f",
   "metadata": {},
   "outputs": [],
   "source": [
    "stopwords = nltk.corpus.stopwords.words('english')\n",
    "stopwords.append(\"movie\")\n",
    "stopwords.append(\"review\")"
   ]
  },
  {
   "cell_type": "code",
   "execution_count": 13,
   "id": "2d5b9a07-98ea-494b-93f8-aa1de8e2d410",
   "metadata": {},
   "outputs": [],
   "source": [
    "def normalize_text(text):\n",
    "    # lower case -> done in read_csv\n",
    "    # removing html specific keywords\n",
    "    soup = BeautifulSoup(text, \"html.parser\")\n",
    "    text = soup.get_text()\n",
    "    \n",
    "    # removing all punctuation\n",
    "    text = re.sub(r'[^\\w\\s]', '', text)\n",
    "    \n",
    "    # transforming txt into tokens\n",
    "    tokens = toktoktokeniser.tokenize(text)\n",
    "    # removing stopwords\n",
    "    tokens_to_filter = [token.strip() for token in tokens]\n",
    "    tokens = [token for token in tokens_to_filter if token not in stopwords]\n",
    "    \n",
    "    # using a lemmatizer on the text\n",
    "    lemma = WordNetLemmatizer()\n",
    "    final_tokens = [lemma.lemmatize(word) for word in tokens]\n",
    "    text = ' '.join(final_tokens)\n",
    "    return text"
   ]
  },
  {
   "cell_type": "code",
   "execution_count": 16,
   "id": "360b11e2-dbd3-4d22-bd68-3bfdeb53b76c",
   "metadata": {},
   "outputs": [
    {
     "data": {
      "text/html": [
       "<div>\n",
       "<style scoped>\n",
       "    .dataframe tbody tr th:only-of-type {\n",
       "        vertical-align: middle;\n",
       "    }\n",
       "\n",
       "    .dataframe tbody tr th {\n",
       "        vertical-align: top;\n",
       "    }\n",
       "\n",
       "    .dataframe thead th {\n",
       "        text-align: right;\n",
       "    }\n",
       "</style>\n",
       "<table border=\"1\" class=\"dataframe\">\n",
       "  <thead>\n",
       "    <tr style=\"text-align: right;\">\n",
       "      <th></th>\n",
       "      <th>review</th>\n",
       "      <th>sentiment</th>\n",
       "    </tr>\n",
       "  </thead>\n",
       "  <tbody>\n",
       "    <tr>\n",
       "      <th>0</th>\n",
       "      <td>one best fan civil war pleased first installme...</td>\n",
       "      <td>positive</td>\n",
       "    </tr>\n",
       "    <tr>\n",
       "      <th>1</th>\n",
       "      <td>decided time ago collect film billy bob thornt...</td>\n",
       "      <td>negative</td>\n",
       "    </tr>\n",
       "    <tr>\n",
       "      <th>2</th>\n",
       "      <td>true love truly enjoyed loved fun funny inspir...</td>\n",
       "      <td>positive</td>\n",
       "    </tr>\n",
       "    <tr>\n",
       "      <th>3</th>\n",
       "      <td>story ankush abhay deol professional marriage ...</td>\n",
       "      <td>positive</td>\n",
       "    </tr>\n",
       "    <tr>\n",
       "      <th>4</th>\n",
       "      <td>seen since 1998 yet still cant get head stop r...</td>\n",
       "      <td>positive</td>\n",
       "    </tr>\n",
       "    <tr>\n",
       "      <th>...</th>\n",
       "      <td>...</td>\n",
       "      <td>...</td>\n",
       "    </tr>\n",
       "    <tr>\n",
       "      <th>34995</th>\n",
       "      <td>despite one john cusack demi moore early film ...</td>\n",
       "      <td>negative</td>\n",
       "    </tr>\n",
       "    <tr>\n",
       "      <th>34996</th>\n",
       "      <td>costly film produced sir alexander korda hg we...</td>\n",
       "      <td>positive</td>\n",
       "    </tr>\n",
       "    <tr>\n",
       "      <th>34997</th>\n",
       "      <td>probably blame sure hell expected go title bla...</td>\n",
       "      <td>negative</td>\n",
       "    </tr>\n",
       "    <tr>\n",
       "      <th>34998</th>\n",
       "      <td>first series brilliant easily one best horror ...</td>\n",
       "      <td>negative</td>\n",
       "    </tr>\n",
       "    <tr>\n",
       "      <th>34999</th>\n",
       "      <td>certainly highlight film castdiana rigg george...</td>\n",
       "      <td>positive</td>\n",
       "    </tr>\n",
       "  </tbody>\n",
       "</table>\n",
       "<p>35000 rows × 2 columns</p>\n",
       "</div>"
      ],
      "text/plain": [
       "                                                  review sentiment\n",
       "0      one best fan civil war pleased first installme...  positive\n",
       "1      decided time ago collect film billy bob thornt...  negative\n",
       "2      true love truly enjoyed loved fun funny inspir...  positive\n",
       "3      story ankush abhay deol professional marriage ...  positive\n",
       "4      seen since 1998 yet still cant get head stop r...  positive\n",
       "...                                                  ...       ...\n",
       "34995  despite one john cusack demi moore early film ...  negative\n",
       "34996  costly film produced sir alexander korda hg we...  positive\n",
       "34997  probably blame sure hell expected go title bla...  negative\n",
       "34998  first series brilliant easily one best horror ...  negative\n",
       "34999  certainly highlight film castdiana rigg george...  positive\n",
       "\n",
       "[35000 rows x 2 columns]"
      ]
     },
     "execution_count": 16,
     "metadata": {},
     "output_type": "execute_result"
    }
   ],
   "source": [
    "training_set['review'] = training_set['review'].apply(normalize_text)\n",
    "clear_output(wait=False)\n",
    "training_set"
   ]
  },
  {
   "cell_type": "code",
   "execution_count": 15,
   "id": "fc754071-5bb1-4312-9660-2f73fb496ba5",
   "metadata": {},
   "outputs": [
    {
     "data": {
      "text/html": [
       "<div>\n",
       "<style scoped>\n",
       "    .dataframe tbody tr th:only-of-type {\n",
       "        vertical-align: middle;\n",
       "    }\n",
       "\n",
       "    .dataframe tbody tr th {\n",
       "        vertical-align: top;\n",
       "    }\n",
       "\n",
       "    .dataframe thead th {\n",
       "        text-align: right;\n",
       "    }\n",
       "</style>\n",
       "<table border=\"1\" class=\"dataframe\">\n",
       "  <thead>\n",
       "    <tr style=\"text-align: right;\">\n",
       "      <th></th>\n",
       "      <th>review</th>\n",
       "      <th>sentiment</th>\n",
       "    </tr>\n",
       "  </thead>\n",
       "  <tbody>\n",
       "    <tr>\n",
       "      <th>0</th>\n",
       "      <td>depiction miserable milanese underclass film p...</td>\n",
       "      <td>negative</td>\n",
       "    </tr>\n",
       "    <tr>\n",
       "      <th>1</th>\n",
       "      <td>arnold 80 demonstrated king action one liner f...</td>\n",
       "      <td>positive</td>\n",
       "    </tr>\n",
       "    <tr>\n",
       "      <th>2</th>\n",
       "      <td>never fail amazed horrified evil predicated hi...</td>\n",
       "      <td>positive</td>\n",
       "    </tr>\n",
       "    <tr>\n",
       "      <th>3</th>\n",
       "      <td>beautiful touching touched place deep inside i...</td>\n",
       "      <td>positive</td>\n",
       "    </tr>\n",
       "    <tr>\n",
       "      <th>4</th>\n",
       "      <td>bette davis brings full trunk tic miserable fl...</td>\n",
       "      <td>negative</td>\n",
       "    </tr>\n",
       "    <tr>\n",
       "      <th>...</th>\n",
       "      <td>...</td>\n",
       "      <td>...</td>\n",
       "    </tr>\n",
       "    <tr>\n",
       "      <th>14995</th>\n",
       "      <td>wish film middle aged people intellectual jour...</td>\n",
       "      <td>positive</td>\n",
       "    </tr>\n",
       "    <tr>\n",
       "      <th>14996</th>\n",
       "      <td>halloween film get watch every time day yeari ...</td>\n",
       "      <td>positive</td>\n",
       "    </tr>\n",
       "    <tr>\n",
       "      <th>14997</th>\n",
       "      <td>robert heinlein classic novel starship trooper...</td>\n",
       "      <td>positive</td>\n",
       "    </tr>\n",
       "    <tr>\n",
       "      <th>14998</th>\n",
       "      <td>return cabin lake way stand original one main ...</td>\n",
       "      <td>negative</td>\n",
       "    </tr>\n",
       "    <tr>\n",
       "      <th>14999</th>\n",
       "      <td>program brief period kid remember watching whi...</td>\n",
       "      <td>positive</td>\n",
       "    </tr>\n",
       "  </tbody>\n",
       "</table>\n",
       "<p>15000 rows × 2 columns</p>\n",
       "</div>"
      ],
      "text/plain": [
       "                                                  review sentiment\n",
       "0      depiction miserable milanese underclass film p...  negative\n",
       "1      arnold 80 demonstrated king action one liner f...  positive\n",
       "2      never fail amazed horrified evil predicated hi...  positive\n",
       "3      beautiful touching touched place deep inside i...  positive\n",
       "4      bette davis brings full trunk tic miserable fl...  negative\n",
       "...                                                  ...       ...\n",
       "14995  wish film middle aged people intellectual jour...  positive\n",
       "14996  halloween film get watch every time day yeari ...  positive\n",
       "14997  robert heinlein classic novel starship trooper...  positive\n",
       "14998  return cabin lake way stand original one main ...  negative\n",
       "14999  program brief period kid remember watching whi...  positive\n",
       "\n",
       "[15000 rows x 2 columns]"
      ]
     },
     "execution_count": 15,
     "metadata": {},
     "output_type": "execute_result"
    }
   ],
   "source": [
    "testing_set['review'] = testing_set['review'].apply(normalize_text)\n",
    "clear_output(wait=False)\n",
    "testing_set"
   ]
  },
  {
   "cell_type": "markdown",
   "id": "1a55379b-f5a9-4fe7-a4a7-c3d16aac17ee",
   "metadata": {},
   "source": [
    "# "
   ]
  }
 ],
 "metadata": {
  "kernelspec": {
   "display_name": "Python 3 (ipykernel)",
   "language": "python",
   "name": "python3"
  },
  "language_info": {
   "codemirror_mode": {
    "name": "ipython",
    "version": 3
   },
   "file_extension": ".py",
   "mimetype": "text/x-python",
   "name": "python",
   "nbconvert_exporter": "python",
   "pygments_lexer": "ipython3",
   "version": "3.9.6"
  }
 },
 "nbformat": 4,
 "nbformat_minor": 5
}
