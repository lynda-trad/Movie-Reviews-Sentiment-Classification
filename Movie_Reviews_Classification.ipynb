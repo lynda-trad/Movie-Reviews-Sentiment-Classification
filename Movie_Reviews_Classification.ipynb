{
 "cells": [
  {
   "cell_type": "markdown",
   "id": "8964a1ec-a31a-4182-b206-8cac632aa452",
   "metadata": {},
   "source": [
    "# Movie Reviews Classification"
   ]
  },
  {
   "cell_type": "markdown",
   "id": "3a9885f2-cad8-4d94-9635-dc2acc0a9f1c",
   "metadata": {},
   "source": [
    "# Library"
   ]
  },
  {
   "cell_type": "code",
   "execution_count": 41,
   "id": "4171b8e5-21a6-4af6-b1b2-c313d0a8d6b9",
   "metadata": {},
   "outputs": [],
   "source": [
    "import pandas as pd\n",
    "import nltk\n",
    "\n",
    "\n",
    "nltk.download('stopwords')\n",
    "from IPython.display import clear_output\n",
    "clear_output(wait=False)"
   ]
  },
  {
   "cell_type": "markdown",
   "id": "8305f1c0-1711-4e44-936c-592fdb8c18ed",
   "metadata": {},
   "source": [
    "# Importing and analysing data"
   ]
  },
  {
   "cell_type": "code",
   "execution_count": 8,
   "id": "b4f2e5d2-a0dd-4f9c-832a-864614a358c3",
   "metadata": {},
   "outputs": [
    {
     "name": "stdout",
     "output_type": "stream",
     "text": [
      "(50000, 2)\n"
     ]
    },
    {
     "data": {
      "text/html": [
       "<div>\n",
       "<style scoped>\n",
       "    .dataframe tbody tr th:only-of-type {\n",
       "        vertical-align: middle;\n",
       "    }\n",
       "\n",
       "    .dataframe tbody tr th {\n",
       "        vertical-align: top;\n",
       "    }\n",
       "\n",
       "    .dataframe thead th {\n",
       "        text-align: right;\n",
       "    }\n",
       "</style>\n",
       "<table border=\"1\" class=\"dataframe\">\n",
       "  <thead>\n",
       "    <tr style=\"text-align: right;\">\n",
       "      <th></th>\n",
       "      <th>review</th>\n",
       "      <th>sentiment</th>\n",
       "    </tr>\n",
       "  </thead>\n",
       "  <tbody>\n",
       "    <tr>\n",
       "      <th>0</th>\n",
       "      <td>one of the other reviewers has mentioned that ...</td>\n",
       "      <td>positive</td>\n",
       "    </tr>\n",
       "    <tr>\n",
       "      <th>1</th>\n",
       "      <td>a wonderful little production. &lt;br /&gt;&lt;br /&gt;the...</td>\n",
       "      <td>positive</td>\n",
       "    </tr>\n",
       "    <tr>\n",
       "      <th>2</th>\n",
       "      <td>i thought this was a wonderful way to spend ti...</td>\n",
       "      <td>positive</td>\n",
       "    </tr>\n",
       "    <tr>\n",
       "      <th>3</th>\n",
       "      <td>basically there's a family where a little boy ...</td>\n",
       "      <td>negative</td>\n",
       "    </tr>\n",
       "    <tr>\n",
       "      <th>4</th>\n",
       "      <td>petter mattei's \"love in the time of money\" is...</td>\n",
       "      <td>positive</td>\n",
       "    </tr>\n",
       "  </tbody>\n",
       "</table>\n",
       "</div>"
      ],
      "text/plain": [
       "                                              review sentiment\n",
       "0  one of the other reviewers has mentioned that ...  positive\n",
       "1  a wonderful little production. <br /><br />the...  positive\n",
       "2  i thought this was a wonderful way to spend ti...  positive\n",
       "3  basically there's a family where a little boy ...  negative\n",
       "4  petter mattei's \"love in the time of money\" is...  positive"
      ]
     },
     "execution_count": 8,
     "metadata": {},
     "output_type": "execute_result"
    }
   ],
   "source": [
    "data = pd.read_csv(\"./data/IMDB_Dataset.csv\", converters={\"review\": lambda x: x.lower()})\n",
    "print(data.shape)\n",
    "data.head()"
   ]
  },
  {
   "cell_type": "markdown",
   "id": "f807acc1-05fa-4584-a950-f7c0e345846a",
   "metadata": {},
   "source": [
    "The data set is balanced, this is very important to not get any bias."
   ]
  },
  {
   "cell_type": "code",
   "execution_count": 7,
   "id": "f699fc6c-05ce-464d-a60b-f79a5a6c8e1a",
   "metadata": {},
   "outputs": [
    {
     "data": {
      "text/plain": [
       "sentiment\n",
       "positive    25000\n",
       "negative    25000\n",
       "Name: count, dtype: int64"
      ]
     },
     "execution_count": 7,
     "metadata": {},
     "output_type": "execute_result"
    }
   ],
   "source": [
    "data['sentiment'].value_counts()"
   ]
  },
  {
   "cell_type": "markdown",
   "id": "398b2cae-0220-4c27-99a0-6b7debc49e3a",
   "metadata": {},
   "source": [
    "# Normalizing data"
   ]
  },
  {
   "cell_type": "markdown",
   "id": "a1336993-9110-4fb8-889d-f492a0827b45",
   "metadata": {},
   "source": [
    "To classify text, we have to normalize it so a computer can understand it.\n",
    "\n",
    "The steps will be :\n",
    "\n",
    "- Putting all the text in lower case\n",
    "- Removing punctuation and html specific keyword (such as < br/ >)\n",
    "- Transforming the text into tokens\n",
    "- Removing any stopword\n",
    "- Using a lemmatizer on the text\n",
    "\n",
    "With the converters parameter of read_csv, we already turned the text into lowercase."
   ]
  },
  {
   "cell_type": "code",
   "execution_count": 45,
   "id": "2a761521-315a-4965-bdd3-2c376400335f",
   "metadata": {},
   "outputs": [],
   "source": [
    "stopwords = nltk.corpus.stopwords.words('english')"
   ]
  },
  {
   "cell_type": "code",
   "execution_count": null,
   "id": "2d5b9a07-98ea-494b-93f8-aa1de8e2d410",
   "metadata": {},
   "outputs": [],
   "source": [
    "def normalize_text(text):\n",
    "    # lower case -> done in read_csv\n",
    "    # removing all punctuation\n",
    "    text = re.sub(r'[^\\w\\s]', '', text)\n",
    "    \n",
    "    # removing html specific keywords\n",
    "    #todo\n",
    "    \n",
    "    # transforming txt into tokens\n",
    "    tokens = tokenizer.tokenize(text)\n",
    "    # removing stopwords\n",
    "    stop=set(stopwords.words('english'))\n",
    "    tokens_to_filter = [token.strip() for token in tokens]\n",
    "    tokens = [token for token in tokens_to_filter if token not in stopwords]\n",
    "    # using a lemmatizer on the text\n",
    "    lemma = WordNetLemmatizer()\n",
    "    [lemma.lemmatize(word] for word in tokens]\n",
    "    return tokens"
   ]
  },
  {
   "cell_type": "code",
   "execution_count": null,
   "id": "360b11e2-dbd3-4d22-bd68-3bfdeb53b76c",
   "metadata": {},
   "outputs": [],
   "source": [
    "data['review'] = data['review'].apply(normalize_text)"
   ]
  }
 ],
 "metadata": {
  "kernelspec": {
   "display_name": "Python 3 (ipykernel)",
   "language": "python",
   "name": "python3"
  },
  "language_info": {
   "codemirror_mode": {
    "name": "ipython",
    "version": 3
   },
   "file_extension": ".py",
   "mimetype": "text/x-python",
   "name": "python",
   "nbconvert_exporter": "python",
   "pygments_lexer": "ipython3",
   "version": "3.9.6"
  }
 },
 "nbformat": 4,
 "nbformat_minor": 5
}
