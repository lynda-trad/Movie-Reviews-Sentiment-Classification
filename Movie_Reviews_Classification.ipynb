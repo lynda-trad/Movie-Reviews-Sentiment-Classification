{
 "cells": [
  {
   "cell_type": "markdown",
   "id": "8964a1ec-a31a-4182-b206-8cac632aa452",
   "metadata": {},
   "source": [
    "# Movie Reviews Classification"
   ]
  },
  {
   "cell_type": "markdown",
   "id": "3a9885f2-cad8-4d94-9635-dc2acc0a9f1c",
   "metadata": {
    "jp-MarkdownHeadingCollapsed": true
   },
   "source": [
    "# Library"
   ]
  },
  {
   "cell_type": "code",
   "execution_count": 1,
   "id": "4171b8e5-21a6-4af6-b1b2-c313d0a8d6b9",
   "metadata": {},
   "outputs": [],
   "source": [
    "import pandas as pd\n",
    "import nltk\n",
    "nltk.download('stopwords')\n",
    "\n",
    "# Normalize text\n",
    "import re\n",
    "from bs4 import BeautifulSoup\n",
    "from nltk.tokenize.toktok import ToktokTokenizer\n",
    "from nltk.stem import WordNetLemmatizer\n",
    "\n",
    "from sklearn.preprocessing import LabelBinarizer\n",
    "\n",
    "# Model\n",
    "from sklearn.feature_extraction.text import TfidfVectorizer\n",
    "from sklearn.linear_model import SGDClassifier\n",
    "from sklearn.metrics import classification_report,confusion_matrix\n",
    "\n",
    "# Vizualisation\n",
    "import matplotlib.pyplot as plt\n",
    "\n",
    "from IPython.display import clear_output\n",
    "clear_output(wait=False)"
   ]
  },
  {
   "cell_type": "markdown",
   "id": "8305f1c0-1711-4e44-936c-592fdb8c18ed",
   "metadata": {
    "jp-MarkdownHeadingCollapsed": true
   },
   "source": [
    "# Importing and analysing data"
   ]
  },
  {
   "cell_type": "code",
   "execution_count": 2,
   "id": "b4f2e5d2-a0dd-4f9c-832a-864614a358c3",
   "metadata": {},
   "outputs": [
    {
     "name": "stdout",
     "output_type": "stream",
     "text": [
      "(50000, 2)\n"
     ]
    },
    {
     "data": {
      "text/html": [
       "<div>\n",
       "<style scoped>\n",
       "    .dataframe tbody tr th:only-of-type {\n",
       "        vertical-align: middle;\n",
       "    }\n",
       "\n",
       "    .dataframe tbody tr th {\n",
       "        vertical-align: top;\n",
       "    }\n",
       "\n",
       "    .dataframe thead th {\n",
       "        text-align: right;\n",
       "    }\n",
       "</style>\n",
       "<table border=\"1\" class=\"dataframe\">\n",
       "  <thead>\n",
       "    <tr style=\"text-align: right;\">\n",
       "      <th></th>\n",
       "      <th>review</th>\n",
       "      <th>sentiment</th>\n",
       "    </tr>\n",
       "  </thead>\n",
       "  <tbody>\n",
       "    <tr>\n",
       "      <th>0</th>\n",
       "      <td>one of the other reviewers has mentioned that ...</td>\n",
       "      <td>positive</td>\n",
       "    </tr>\n",
       "    <tr>\n",
       "      <th>1</th>\n",
       "      <td>a wonderful little production. &lt;br /&gt;&lt;br /&gt;the...</td>\n",
       "      <td>positive</td>\n",
       "    </tr>\n",
       "    <tr>\n",
       "      <th>2</th>\n",
       "      <td>i thought this was a wonderful way to spend ti...</td>\n",
       "      <td>positive</td>\n",
       "    </tr>\n",
       "    <tr>\n",
       "      <th>3</th>\n",
       "      <td>basically there's a family where a little boy ...</td>\n",
       "      <td>negative</td>\n",
       "    </tr>\n",
       "    <tr>\n",
       "      <th>4</th>\n",
       "      <td>petter mattei's \"love in the time of money\" is...</td>\n",
       "      <td>positive</td>\n",
       "    </tr>\n",
       "  </tbody>\n",
       "</table>\n",
       "</div>"
      ],
      "text/plain": [
       "                                              review sentiment\n",
       "0  one of the other reviewers has mentioned that ...  positive\n",
       "1  a wonderful little production. <br /><br />the...  positive\n",
       "2  i thought this was a wonderful way to spend ti...  positive\n",
       "3  basically there's a family where a little boy ...  negative\n",
       "4  petter mattei's \"love in the time of money\" is...  positive"
      ]
     },
     "execution_count": 2,
     "metadata": {},
     "output_type": "execute_result"
    }
   ],
   "source": [
    "data = pd.read_csv(\"./data/IMDB_Dataset.csv\", converters={\"review\": lambda x: x.lower()})\n",
    "print(data.shape)\n",
    "data.head()"
   ]
  },
  {
   "cell_type": "markdown",
   "id": "f807acc1-05fa-4584-a950-f7c0e345846a",
   "metadata": {},
   "source": [
    "The data set is balanced, this is very important to not get any bias."
   ]
  },
  {
   "cell_type": "code",
   "execution_count": 3,
   "id": "f699fc6c-05ce-464d-a60b-f79a5a6c8e1a",
   "metadata": {
    "scrolled": true
   },
   "outputs": [
    {
     "data": {
      "text/plain": [
       "sentiment\n",
       "positive    25000\n",
       "negative    25000\n",
       "Name: count, dtype: int64"
      ]
     },
     "execution_count": 3,
     "metadata": {},
     "output_type": "execute_result"
    }
   ],
   "source": [
    "data['sentiment'].value_counts()"
   ]
  },
  {
   "cell_type": "markdown",
   "id": "8ec16d79-37a7-400d-8e39-98938aca94f8",
   "metadata": {
    "jp-MarkdownHeadingCollapsed": true
   },
   "source": [
    "# Splitting data into training and testing data sets\n",
    "The training set will consist of 2 thirds of the original data set with an even number of positive and negative reviews.\n",
    "\n",
    "The testing set will consist of a third of the original data set, we won't make it balanced, we'll take one random third of the last rows."
   ]
  },
  {
   "cell_type": "code",
   "execution_count": 4,
   "id": "55b15af8-bc9f-4ff7-a737-889a4234e547",
   "metadata": {},
   "outputs": [],
   "source": [
    "positive_set = data.loc[data['sentiment'] == 'positive']\n",
    "training_set = positive_set.iloc[:17500]"
   ]
  },
  {
   "cell_type": "code",
   "execution_count": 5,
   "id": "21badd36-2fa8-43f5-9ad6-7b7ee7b15f1c",
   "metadata": {},
   "outputs": [],
   "source": [
    "negative_set = data.loc[data['sentiment'] == 'negative']\n",
    "training_set = pd.concat([training_set, negative_set.iloc[:17500]])"
   ]
  },
  {
   "cell_type": "code",
   "execution_count": 6,
   "id": "261f9c37-0bba-4270-9a53-cd8cd5918275",
   "metadata": {},
   "outputs": [],
   "source": [
    "del positive_set, negative_set"
   ]
  },
  {
   "cell_type": "code",
   "execution_count": 7,
   "id": "76c3899d-73bd-486c-b3f7-dd30176a374b",
   "metadata": {},
   "outputs": [
    {
     "data": {
      "text/plain": [
       "sentiment\n",
       "positive    7510\n",
       "negative    7490\n",
       "Name: count, dtype: int64"
      ]
     },
     "execution_count": 7,
     "metadata": {},
     "output_type": "execute_result"
    }
   ],
   "source": [
    "testing_set = data.iloc[35000:]\n",
    "testing_set['sentiment'].value_counts()"
   ]
  },
  {
   "cell_type": "code",
   "execution_count": 8,
   "id": "e26d5543-0931-403b-936b-82c849327790",
   "metadata": {},
   "outputs": [],
   "source": [
    "# Shuffling the data sets to remove bias\n",
    "training_set = training_set.sample(frac=1).reset_index(drop=True)\n",
    "testing_set = testing_set.sample(frac=1).reset_index(drop=True)"
   ]
  },
  {
   "cell_type": "code",
   "execution_count": 9,
   "id": "7540a23d-1a96-4569-8845-731406ccb5c4",
   "metadata": {},
   "outputs": [
    {
     "name": "stdout",
     "output_type": "stream",
     "text": [
      "(35000, 2)\n"
     ]
    },
    {
     "data": {
      "text/html": [
       "<div>\n",
       "<style scoped>\n",
       "    .dataframe tbody tr th:only-of-type {\n",
       "        vertical-align: middle;\n",
       "    }\n",
       "\n",
       "    .dataframe tbody tr th {\n",
       "        vertical-align: top;\n",
       "    }\n",
       "\n",
       "    .dataframe thead th {\n",
       "        text-align: right;\n",
       "    }\n",
       "</style>\n",
       "<table border=\"1\" class=\"dataframe\">\n",
       "  <thead>\n",
       "    <tr style=\"text-align: right;\">\n",
       "      <th></th>\n",
       "      <th>review</th>\n",
       "      <th>sentiment</th>\n",
       "    </tr>\n",
       "  </thead>\n",
       "  <tbody>\n",
       "    <tr>\n",
       "      <th>0</th>\n",
       "      <td>after a cold sex scene, between andy and gina,...</td>\n",
       "      <td>positive</td>\n",
       "    </tr>\n",
       "    <tr>\n",
       "      <th>1</th>\n",
       "      <td>practically the only other actor who would be ...</td>\n",
       "      <td>negative</td>\n",
       "    </tr>\n",
       "    <tr>\n",
       "      <th>2</th>\n",
       "      <td>it's really good to see van damme's film are s...</td>\n",
       "      <td>positive</td>\n",
       "    </tr>\n",
       "    <tr>\n",
       "      <th>3</th>\n",
       "      <td>the earlier part of the film was rather enjoya...</td>\n",
       "      <td>negative</td>\n",
       "    </tr>\n",
       "    <tr>\n",
       "      <th>4</th>\n",
       "      <td>jay craven's criminally ignored film is a sobe...</td>\n",
       "      <td>positive</td>\n",
       "    </tr>\n",
       "  </tbody>\n",
       "</table>\n",
       "</div>"
      ],
      "text/plain": [
       "                                              review sentiment\n",
       "0  after a cold sex scene, between andy and gina,...  positive\n",
       "1  practically the only other actor who would be ...  negative\n",
       "2  it's really good to see van damme's film are s...  positive\n",
       "3  the earlier part of the film was rather enjoya...  negative\n",
       "4  jay craven's criminally ignored film is a sobe...  positive"
      ]
     },
     "execution_count": 9,
     "metadata": {},
     "output_type": "execute_result"
    }
   ],
   "source": [
    "print(training_set.shape)\n",
    "training_set.head()"
   ]
  },
  {
   "cell_type": "code",
   "execution_count": 10,
   "id": "623cd9b3-4252-4755-9699-32af66751e4c",
   "metadata": {},
   "outputs": [
    {
     "name": "stdout",
     "output_type": "stream",
     "text": [
      "(15000, 2)\n"
     ]
    },
    {
     "data": {
      "text/html": [
       "<div>\n",
       "<style scoped>\n",
       "    .dataframe tbody tr th:only-of-type {\n",
       "        vertical-align: middle;\n",
       "    }\n",
       "\n",
       "    .dataframe tbody tr th {\n",
       "        vertical-align: top;\n",
       "    }\n",
       "\n",
       "    .dataframe thead th {\n",
       "        text-align: right;\n",
       "    }\n",
       "</style>\n",
       "<table border=\"1\" class=\"dataframe\">\n",
       "  <thead>\n",
       "    <tr style=\"text-align: right;\">\n",
       "      <th></th>\n",
       "      <th>review</th>\n",
       "      <th>sentiment</th>\n",
       "    </tr>\n",
       "  </thead>\n",
       "  <tbody>\n",
       "    <tr>\n",
       "      <th>0</th>\n",
       "      <td>it is said that there are some people out ther...</td>\n",
       "      <td>negative</td>\n",
       "    </tr>\n",
       "    <tr>\n",
       "      <th>1</th>\n",
       "      <td>i happened to catch this movie on late night t...</td>\n",
       "      <td>negative</td>\n",
       "    </tr>\n",
       "    <tr>\n",
       "      <th>2</th>\n",
       "      <td>this movie from what i remember was such a gre...</td>\n",
       "      <td>positive</td>\n",
       "    </tr>\n",
       "    <tr>\n",
       "      <th>3</th>\n",
       "      <td>fashionably fragmented, yet infuriatingly half...</td>\n",
       "      <td>negative</td>\n",
       "    </tr>\n",
       "    <tr>\n",
       "      <th>4</th>\n",
       "      <td>another british cinema flag waver. real garbag...</td>\n",
       "      <td>negative</td>\n",
       "    </tr>\n",
       "  </tbody>\n",
       "</table>\n",
       "</div>"
      ],
      "text/plain": [
       "                                              review sentiment\n",
       "0  it is said that there are some people out ther...  negative\n",
       "1  i happened to catch this movie on late night t...  negative\n",
       "2  this movie from what i remember was such a gre...  positive\n",
       "3  fashionably fragmented, yet infuriatingly half...  negative\n",
       "4  another british cinema flag waver. real garbag...  negative"
      ]
     },
     "execution_count": 10,
     "metadata": {},
     "output_type": "execute_result"
    }
   ],
   "source": [
    "print(testing_set.shape)\n",
    "testing_set.head()"
   ]
  },
  {
   "cell_type": "markdown",
   "id": "398b2cae-0220-4c27-99a0-6b7debc49e3a",
   "metadata": {},
   "source": [
    "# Normalizing data"
   ]
  },
  {
   "cell_type": "markdown",
   "id": "a1336993-9110-4fb8-889d-f492a0827b45",
   "metadata": {},
   "source": [
    "To classify text, we have to normalize it so a computer can understand it.\n",
    "\n",
    "The steps will be :\n",
    "\n",
    "- Putting all the text in lower case (With the converters parameter of read_csv, we already did this step.)\n",
    "- Removing punctuation and html specific keyword (such as < br/ >) : we'll use re and BeautifulSoup.\n",
    "- Transforming the text into tokens\n",
    "- Removing any stopword : it consists of removing words with poor semantic interest, nltk has a built in list to which I'll add the words \"movie\" and \"review\".\n",
    "- Using a lemmatizer on the text : it consists of using the same word for derivatives of said word, removing conjugation from verbs, plural from words etc.\n",
    "\n"
   ]
  },
  {
   "cell_type": "markdown",
   "id": "ccf98bd5-4f93-4dc7-ba3d-d557137850bb",
   "metadata": {
    "jp-MarkdownHeadingCollapsed": true
   },
   "source": [
    "## Tools used to normalize the text"
   ]
  },
  {
   "cell_type": "code",
   "execution_count": 11,
   "id": "329d2a57-35fe-4cf2-80e4-51a200810a88",
   "metadata": {},
   "outputs": [],
   "source": [
    "# We'll use a simple, general tokeniser\n",
    "toktoktokeniser = ToktokTokenizer()"
   ]
  },
  {
   "cell_type": "code",
   "execution_count": 12,
   "id": "2a761521-315a-4965-bdd3-2c376400335f",
   "metadata": {},
   "outputs": [],
   "source": [
    "stopwords = nltk.corpus.stopwords.words('english')\n",
    "stopwords.append(\"movie\")\n",
    "stopwords.append(\"review\")"
   ]
  },
  {
   "cell_type": "code",
   "execution_count": 13,
   "id": "2d5b9a07-98ea-494b-93f8-aa1de8e2d410",
   "metadata": {},
   "outputs": [],
   "source": [
    "def normalize_text(text):\n",
    "    # lower case -> done in read_csv\n",
    "    # removing html specific keywords\n",
    "    soup = BeautifulSoup(text, \"html.parser\")\n",
    "    text = soup.get_text()\n",
    "    \n",
    "    # removing all punctuation\n",
    "    text = re.sub(r'[^\\w\\s]', '', text)\n",
    "    \n",
    "    # transforming txt into tokens\n",
    "    tokens = toktoktokeniser.tokenize(text)\n",
    "    # removing stopwords\n",
    "    tokens_to_filter = [token.strip() for token in tokens]\n",
    "    tokens = [token for token in tokens_to_filter if token not in stopwords]\n",
    "    \n",
    "    # using a lemmatizer on the text\n",
    "    lemma = WordNetLemmatizer()\n",
    "    final_tokens = [lemma.lemmatize(word) for word in tokens]\n",
    "    text = ' '.join(final_tokens)\n",
    "    return text"
   ]
  },
  {
   "cell_type": "markdown",
   "id": "9551a94e-aa8b-4b4c-bae6-3f9402a7d7fb",
   "metadata": {
    "jp-MarkdownHeadingCollapsed": true
   },
   "source": [
    "## Normalized data sets"
   ]
  },
  {
   "cell_type": "code",
   "execution_count": 14,
   "id": "360b11e2-dbd3-4d22-bd68-3bfdeb53b76c",
   "metadata": {},
   "outputs": [
    {
     "data": {
      "text/html": [
       "<div>\n",
       "<style scoped>\n",
       "    .dataframe tbody tr th:only-of-type {\n",
       "        vertical-align: middle;\n",
       "    }\n",
       "\n",
       "    .dataframe tbody tr th {\n",
       "        vertical-align: top;\n",
       "    }\n",
       "\n",
       "    .dataframe thead th {\n",
       "        text-align: right;\n",
       "    }\n",
       "</style>\n",
       "<table border=\"1\" class=\"dataframe\">\n",
       "  <thead>\n",
       "    <tr style=\"text-align: right;\">\n",
       "      <th></th>\n",
       "      <th>review</th>\n",
       "      <th>sentiment</th>\n",
       "    </tr>\n",
       "  </thead>\n",
       "  <tbody>\n",
       "    <tr>\n",
       "      <th>0</th>\n",
       "      <td>cold sex scene andy gina south america know an...</td>\n",
       "      <td>positive</td>\n",
       "    </tr>\n",
       "    <tr>\n",
       "      <th>1</th>\n",
       "      <td>practically actor would le likely play evel kn...</td>\n",
       "      <td>negative</td>\n",
       "    </tr>\n",
       "    <tr>\n",
       "      <th>2</th>\n",
       "      <td>really good see van dammes film slowly getting...</td>\n",
       "      <td>positive</td>\n",
       "    </tr>\n",
       "    <tr>\n",
       "      <th>3</th>\n",
       "      <td>earlier part film rather enjoyable towards end...</td>\n",
       "      <td>negative</td>\n",
       "    </tr>\n",
       "    <tr>\n",
       "      <th>4</th>\n",
       "      <td>jay craven criminally ignored film sober breat...</td>\n",
       "      <td>positive</td>\n",
       "    </tr>\n",
       "    <tr>\n",
       "      <th>...</th>\n",
       "      <td>...</td>\n",
       "      <td>...</td>\n",
       "    </tr>\n",
       "    <tr>\n",
       "      <th>34995</th>\n",
       "      <td>never seen terrible ive gone insane huge waste...</td>\n",
       "      <td>negative</td>\n",
       "    </tr>\n",
       "    <tr>\n",
       "      <th>34996</th>\n",
       "      <td>watching beginning end happened catch last hal...</td>\n",
       "      <td>positive</td>\n",
       "    </tr>\n",
       "    <tr>\n",
       "      <th>34997</th>\n",
       "      <td>cause showcase sean connery harvard law prof k...</td>\n",
       "      <td>negative</td>\n",
       "    </tr>\n",
       "    <tr>\n",
       "      <th>34998</th>\n",
       "      <td>wow james purefoy look exactly like thomas jan...</td>\n",
       "      <td>negative</td>\n",
       "    </tr>\n",
       "    <tr>\n",
       "      <th>34999</th>\n",
       "      <td>see laurel hardy purist might offended rather ...</td>\n",
       "      <td>negative</td>\n",
       "    </tr>\n",
       "  </tbody>\n",
       "</table>\n",
       "<p>35000 rows × 2 columns</p>\n",
       "</div>"
      ],
      "text/plain": [
       "                                                  review sentiment\n",
       "0      cold sex scene andy gina south america know an...  positive\n",
       "1      practically actor would le likely play evel kn...  negative\n",
       "2      really good see van dammes film slowly getting...  positive\n",
       "3      earlier part film rather enjoyable towards end...  negative\n",
       "4      jay craven criminally ignored film sober breat...  positive\n",
       "...                                                  ...       ...\n",
       "34995  never seen terrible ive gone insane huge waste...  negative\n",
       "34996  watching beginning end happened catch last hal...  positive\n",
       "34997  cause showcase sean connery harvard law prof k...  negative\n",
       "34998  wow james purefoy look exactly like thomas jan...  negative\n",
       "34999  see laurel hardy purist might offended rather ...  negative\n",
       "\n",
       "[35000 rows x 2 columns]"
      ]
     },
     "execution_count": 14,
     "metadata": {},
     "output_type": "execute_result"
    }
   ],
   "source": [
    "norm_training_set = training_set.copy()\n",
    "norm_training_set['review'] = training_set['review'].apply(normalize_text)\n",
    "clear_output(wait=False)\n",
    "norm_training_set"
   ]
  },
  {
   "cell_type": "code",
   "execution_count": 15,
   "id": "fc754071-5bb1-4312-9660-2f73fb496ba5",
   "metadata": {},
   "outputs": [
    {
     "data": {
      "text/html": [
       "<div>\n",
       "<style scoped>\n",
       "    .dataframe tbody tr th:only-of-type {\n",
       "        vertical-align: middle;\n",
       "    }\n",
       "\n",
       "    .dataframe tbody tr th {\n",
       "        vertical-align: top;\n",
       "    }\n",
       "\n",
       "    .dataframe thead th {\n",
       "        text-align: right;\n",
       "    }\n",
       "</style>\n",
       "<table border=\"1\" class=\"dataframe\">\n",
       "  <thead>\n",
       "    <tr style=\"text-align: right;\">\n",
       "      <th></th>\n",
       "      <th>review</th>\n",
       "      <th>sentiment</th>\n",
       "    </tr>\n",
       "  </thead>\n",
       "  <tbody>\n",
       "    <tr>\n",
       "      <th>0</th>\n",
       "      <td>said people actually admire monogram movie wel...</td>\n",
       "      <td>negative</td>\n",
       "    </tr>\n",
       "    <tr>\n",
       "      <th>1</th>\n",
       "      <td>happened catch late night tv saw opening credi...</td>\n",
       "      <td>negative</td>\n",
       "    </tr>\n",
       "    <tr>\n",
       "      <th>2</th>\n",
       "      <td>remember great watched television 11 couldnt r...</td>\n",
       "      <td>positive</td>\n",
       "    </tr>\n",
       "    <tr>\n",
       "      <th>3</th>\n",
       "      <td>fashionably fragmented yet infuriatingly halfr...</td>\n",
       "      <td>negative</td>\n",
       "    </tr>\n",
       "    <tr>\n",
       "      <th>4</th>\n",
       "      <td>another british cinema flag waver real garbage...</td>\n",
       "      <td>negative</td>\n",
       "    </tr>\n",
       "    <tr>\n",
       "      <th>...</th>\n",
       "      <td>...</td>\n",
       "      <td>...</td>\n",
       "    </tr>\n",
       "    <tr>\n",
       "      <th>14995</th>\n",
       "      <td>actually looking forward commercial made look ...</td>\n",
       "      <td>negative</td>\n",
       "    </tr>\n",
       "    <tr>\n",
       "      <th>14996</th>\n",
       "      <td>went cinema 1973 film released 11 time remembe...</td>\n",
       "      <td>positive</td>\n",
       "    </tr>\n",
       "    <tr>\n",
       "      <th>14997</th>\n",
       "      <td>john wayne first starring role blew away telev...</td>\n",
       "      <td>positive</td>\n",
       "    </tr>\n",
       "    <tr>\n",
       "      <th>14998</th>\n",
       "      <td>1904 tangier wealthy american woman two child ...</td>\n",
       "      <td>negative</td>\n",
       "    </tr>\n",
       "    <tr>\n",
       "      <th>14999</th>\n",
       "      <td>love human remains one obviously scripted obvi...</td>\n",
       "      <td>negative</td>\n",
       "    </tr>\n",
       "  </tbody>\n",
       "</table>\n",
       "<p>15000 rows × 2 columns</p>\n",
       "</div>"
      ],
      "text/plain": [
       "                                                  review sentiment\n",
       "0      said people actually admire monogram movie wel...  negative\n",
       "1      happened catch late night tv saw opening credi...  negative\n",
       "2      remember great watched television 11 couldnt r...  positive\n",
       "3      fashionably fragmented yet infuriatingly halfr...  negative\n",
       "4      another british cinema flag waver real garbage...  negative\n",
       "...                                                  ...       ...\n",
       "14995  actually looking forward commercial made look ...  negative\n",
       "14996  went cinema 1973 film released 11 time remembe...  positive\n",
       "14997  john wayne first starring role blew away telev...  positive\n",
       "14998  1904 tangier wealthy american woman two child ...  negative\n",
       "14999  love human remains one obviously scripted obvi...  negative\n",
       "\n",
       "[15000 rows x 2 columns]"
      ]
     },
     "execution_count": 15,
     "metadata": {},
     "output_type": "execute_result"
    }
   ],
   "source": [
    "norm_testing_set = testing_set.copy()\n",
    "norm_testing_set['review'] = testing_set['review'].apply(normalize_text)\n",
    "clear_output(wait=False)\n",
    "norm_testing_set"
   ]
  },
  {
   "cell_type": "markdown",
   "id": "f8993e93-d38f-4600-93d7-acfce3036704",
   "metadata": {
    "jp-MarkdownHeadingCollapsed": true
   },
   "source": [
    "# Labelizing the sentiment column"
   ]
  },
  {
   "cell_type": "code",
   "execution_count": 16,
   "id": "8feabc56-849b-4311-8d9f-f5afb484c876",
   "metadata": {},
   "outputs": [],
   "source": [
    "lb=LabelBinarizer()\n",
    "\n",
    "train_sentiment = lb.fit_transform(training_set['sentiment'])\n",
    "test_sentiment = lb.fit_transform(testing_set['sentiment'])"
   ]
  },
  {
   "cell_type": "markdown",
   "id": "1a55379b-f5a9-4fe7-a4a7-c3d16aac17ee",
   "metadata": {
    "jp-MarkdownHeadingCollapsed": true
   },
   "source": [
    "# Term Frequency - Inverse Document Frequency (TFIDF)\n",
    "TFIDF represents words with a number matrix. \n",
    "\n",
    "We'll use the parameter ngram (1,2) to get a bit more context with tuple of words.\n",
    "\n",
    "Careful not to use fit_transform on the testing set, only fit_transform on the training set."
   ]
  },
  {
   "cell_type": "code",
   "execution_count": 17,
   "id": "bb2ace84-31ac-4b9d-8d2d-848026352759",
   "metadata": {},
   "outputs": [],
   "source": [
    "tfidf_vectorizer = TfidfVectorizer(stop_words='english', analyzer='word', ngram_range=(1, 2))\n",
    "tfid_train = tfidf_vectorizer.fit_transform(training_set.review)\n",
    "tfid_test = tfidf_vectorizer.transform(testing_set.review)"
   ]
  },
  {
   "cell_type": "code",
   "execution_count": 18,
   "id": "0b80182c-f45c-48e5-8a68-abfec213c3eb",
   "metadata": {},
   "outputs": [
    {
     "name": "stdout",
     "output_type": "stream",
     "text": [
      "Tfidf_train: (35000, 2311168)\n",
      "Tfidf_test: (15000, 2311168)\n"
     ]
    }
   ],
   "source": [
    "print('Tfidf_train:', tfid_train.shape)\n",
    "print('Tfidf_test:', tfid_test.shape)"
   ]
  },
  {
   "cell_type": "markdown",
   "id": "034df125-d057-4cf9-bd87-ffded1cf81ef",
   "metadata": {
    "jp-MarkdownHeadingCollapsed": true
   },
   "source": [
    "## CountVectorizer : an alternative to tfidf\n",
    "\n",
    "```\n",
    "from sklearn.feature_extraction.text import CountVectorizer\n",
    "count_vectorizer = CountVectorizer(min_df=0.0,max_df=1.0,binary=False,ngram_range=(1,3))\n",
    "tfid_train = count_vectorizer.fit_transform(training_set.review)\n",
    "tfid_test = count_vectorizer.transform(testing_set.review)\n",
    "print('Tfidf_train:', tfid_train.shape)\n",
    "print('Tfidf_test:', tfid_test.shape)\n",
    "```"
   ]
  },
  {
   "cell_type": "markdown",
   "id": "ea73c0be-eebb-448e-8e8c-04ebed725992",
   "metadata": {},
   "source": [
    "# Stochastic Gradient Descent"
   ]
  },
  {
   "cell_type": "markdown",
   "id": "bc029eb3-d36a-492f-8c99-5bb98cfc5205",
   "metadata": {
    "jp-MarkdownHeadingCollapsed": true
   },
   "source": [
    "## Model"
   ]
  },
  {
   "cell_type": "code",
   "execution_count": 19,
   "id": "b823f504-3eb0-4838-8258-54597293b413",
   "metadata": {},
   "outputs": [],
   "source": [
    "sgdc_model = SGDClassifier(loss='hinge',max_iter=500,random_state=42)\n",
    "sgdc_model = sgdc_model.fit(tfid_train, train_sentiment)\n",
    "clear_output(wait=False)"
   ]
  },
  {
   "cell_type": "markdown",
   "id": "245a968c-2bce-4ed5-a269-e2d57c6f4137",
   "metadata": {},
   "source": [
    "## Prediction results on testing set"
   ]
  },
  {
   "cell_type": "code",
   "execution_count": 20,
   "id": "082540ac-5ab3-4bb5-a8ec-7a28164d4265",
   "metadata": {},
   "outputs": [
    {
     "data": {
      "text/plain": [
       "array([0, 0, 1, ..., 1, 1, 0])"
      ]
     },
     "execution_count": 20,
     "metadata": {},
     "output_type": "execute_result"
    }
   ],
   "source": [
    "sgdc_prediction = sgdc_model.predict(tfid_test)\n",
    "sgdc_prediction"
   ]
  },
  {
   "cell_type": "markdown",
   "id": "87809dea-0c9b-4673-b213-88dc7706a0a1",
   "metadata": {},
   "source": [
    "### Classification report"
   ]
  },
  {
   "cell_type": "code",
   "execution_count": 21,
   "id": "3ebf13a8-7d78-48c6-8d64-6979aa879907",
   "metadata": {},
   "outputs": [
    {
     "name": "stdout",
     "output_type": "stream",
     "text": [
      "              precision    recall  f1-score   support\n",
      "\n",
      "    Positive       0.91      0.87      0.89      7490\n",
      "    Negative       0.87      0.91      0.89      7510\n",
      "\n",
      "    accuracy                           0.89     15000\n",
      "   macro avg       0.89      0.89      0.89     15000\n",
      "weighted avg       0.89      0.89      0.89     15000\n",
      "\n"
     ]
    }
   ],
   "source": [
    "print(classification_report(test_sentiment, sgdc_prediction,target_names=['Positive', 'Negative']))"
   ]
  },
  {
   "cell_type": "markdown",
   "id": "ea51dc79-f902-4910-b77a-57f3d833bc5a",
   "metadata": {},
   "source": [
    "### Confusion Matrix"
   ]
  },
  {
   "cell_type": "code",
   "execution_count": 23,
   "id": "b14907a9-0283-46f9-a2d7-e92e8868e74a",
   "metadata": {},
   "outputs": [
    {
     "data": {
      "image/png": "[encoded data removed]",
      "text/plain": [
       "<Figure size 500x500 with 1 Axes>"
      ]
     },
     "metadata": {},
     "output_type": "display_data"
    },
    {
     "name": "stdout",
     "output_type": "stream",
     "text": [
      "The confusion matrix shows us the number of :\n",
      "\n",
      "* True positives : 6830 \n",
      "\n",
      "* False positives : 680 \n",
      "\n",
      "* False negatives: 986 \n",
      "\n",
      "* True negatives: 6504 \n",
      "\n"
     ]
    }
   ],
   "source": [
    "conf_matrix = confusion_matrix(test_sentiment, sgdc_prediction, labels=[1,0])\n",
    "\n",
    "fig, ax = plt.subplots(figsize=(5, 5))\n",
    "ax.matshow(conf_matrix, cmap=plt.cm.Oranges, alpha=0.3)\n",
    "for i in range(conf_matrix.shape[0]):\n",
    "    for j in range(conf_matrix.shape[1]):\n",
    "        ax.text(x=j, y=i,s=conf_matrix[i, j], va='center', ha='center', size='xx-large')\n",
    "plt.xlabel('Predictions', fontsize=18)\n",
    "plt.ylabel('Actuals', fontsize=18)\n",
    "plt.title('Confusion Matrix', fontsize=18)\n",
    "plt.show()\n",
    "\n",
    "print('The confusion matrix shows us the number of :\\n')\n",
    "print('* True positives :', conf_matrix[0][0] ,'\\n')\n",
    "print('* False positives :', conf_matrix[0][1],'\\n')\n",
    "print('* False negatives:', conf_matrix[1][0] ,'\\n')\n",
    "print('* True negatives:', conf_matrix[1][1] ,'\\n')"
   ]
  }
 ],
 "metadata": {
  "kernelspec": {
   "display_name": "Python 3 (ipykernel)",
   "language": "python",
   "name": "python3"
  },
  "language_info": {
   "codemirror_mode": {
    "name": "ipython",
    "version": 3
   },
   "file_extension": ".py",
   "mimetype": "text/x-python",
   "name": "python",
   "nbconvert_exporter": "python",
   "pygments_lexer": "ipython3",
   "version": "3.9.6"
  }
 },
 "nbformat": 4,
 "nbformat_minor": 5
}
